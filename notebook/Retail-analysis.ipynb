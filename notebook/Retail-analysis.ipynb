{
 "cells": [
  {
   "cell_type": "markdown",
   "id": "1652836d-b259-46f7-892d-a9f38928826c",
   "metadata": {},
   "source": [
    "# Retail Dataset EDA"
   ]
  },
  {
   "cell_type": "markdown",
   "id": "de2e62f1-01b5-49d0-93c3-d7d053332555",
   "metadata": {},
   "source": [
    "## Pre-processing"
   ]
  },
  {
   "cell_type": "code",
   "execution_count": 26,
   "id": "0eccaea4-78a1-4221-98b9-e5f6c685aa2a",
   "metadata": {},
   "outputs": [],
   "source": [
    "#import library\n",
    "import pandas as pd\n",
    "import numpy as np\n",
    "import calendar"
   ]
  },
  {
   "cell_type": "code",
   "execution_count": 49,
   "id": "523e56f1-1129-4368-b661-ce9453ab7319",
   "metadata": {},
   "outputs": [],
   "source": [
    "# Import the dataset\n",
    "df = pd.read_csv('C:/Users/nownu/OneDrive/Desktop/Arfan/project-portfolio/retail/data/Fashion_Retail_Sales.csv')"
   ]
  },
  {
   "cell_type": "code",
   "execution_count": 29,
   "id": "74d3ee14-5fd1-458e-a2e5-b5bd6874151a",
   "metadata": {},
   "outputs": [
    {
     "name": "stdout",
     "output_type": "stream",
     "text": [
      "<class 'pandas.core.frame.DataFrame'>\n",
      "RangeIndex: 3400 entries, 0 to 3399\n",
      "Data columns (total 6 columns):\n",
      " #   Column                 Non-Null Count  Dtype  \n",
      "---  ------                 --------------  -----  \n",
      " 0   Customer Reference ID  3400 non-null   int64  \n",
      " 1   Item Purchased         3400 non-null   object \n",
      " 2   Purchase Amount (USD)  2750 non-null   float64\n",
      " 3   Date Purchase          3400 non-null   object \n",
      " 4   Review Rating          3076 non-null   float64\n",
      " 5   Payment Method         3400 non-null   object \n",
      "dtypes: float64(2), int64(1), object(3)\n",
      "memory usage: 159.5+ KB\n"
     ]
    }
   ],
   "source": [
    "# Checking the Dtype\n",
    "df.info()"
   ]
  },
  {
   "cell_type": "markdown",
   "id": "34f0d39e-0663-4b3d-9779-a8c5b67a6871",
   "metadata": {},
   "source": [
    "The Dtype of ```Date Purchase``` is object and ```Customer Reference ID``` is Integer, we will change it later in cleaning section\n"
   ]
  },
  {
   "cell_type": "code",
   "execution_count": 43,
   "id": "6715e46b-3fb4-4b7b-858e-3011cabb9e8c",
   "metadata": {},
   "outputs": [
    {
     "data": {
      "text/html": [
       "<div>\n",
       "<style scoped>\n",
       "    .dataframe tbody tr th:only-of-type {\n",
       "        vertical-align: middle;\n",
       "    }\n",
       "\n",
       "    .dataframe tbody tr th {\n",
       "        vertical-align: top;\n",
       "    }\n",
       "\n",
       "    .dataframe thead th {\n",
       "        text-align: right;\n",
       "    }\n",
       "</style>\n",
       "<table border=\"1\" class=\"dataframe\">\n",
       "  <thead>\n",
       "    <tr style=\"text-align: right;\">\n",
       "      <th></th>\n",
       "      <th>Customer Reference ID</th>\n",
       "      <th>Item Purchased</th>\n",
       "      <th>Purchase Amount (USD)</th>\n",
       "      <th>Date Purchase</th>\n",
       "      <th>Review Rating</th>\n",
       "      <th>Payment Method</th>\n",
       "      <th>month</th>\n",
       "    </tr>\n",
       "  </thead>\n",
       "  <tbody>\n",
       "    <tr>\n",
       "      <th>0</th>\n",
       "      <td>4018</td>\n",
       "      <td>Handbag</td>\n",
       "      <td>4619.000000</td>\n",
       "      <td>2023-02-05</td>\n",
       "      <td>2.999057</td>\n",
       "      <td>Credit Card</td>\n",
       "      <td>2</td>\n",
       "    </tr>\n",
       "    <tr>\n",
       "      <th>1</th>\n",
       "      <td>4115</td>\n",
       "      <td>Tunic</td>\n",
       "      <td>2456.000000</td>\n",
       "      <td>2023-07-11</td>\n",
       "      <td>2.000000</td>\n",
       "      <td>Credit Card</td>\n",
       "      <td>7</td>\n",
       "    </tr>\n",
       "    <tr>\n",
       "      <th>2</th>\n",
       "      <td>4019</td>\n",
       "      <td>Tank Top</td>\n",
       "      <td>2102.000000</td>\n",
       "      <td>2023-03-23</td>\n",
       "      <td>4.100000</td>\n",
       "      <td>Cash</td>\n",
       "      <td>3</td>\n",
       "    </tr>\n",
       "    <tr>\n",
       "      <th>3</th>\n",
       "      <td>4097</td>\n",
       "      <td>Leggings</td>\n",
       "      <td>3126.000000</td>\n",
       "      <td>2023-03-15</td>\n",
       "      <td>3.200000</td>\n",
       "      <td>Cash</td>\n",
       "      <td>3</td>\n",
       "    </tr>\n",
       "    <tr>\n",
       "      <th>4</th>\n",
       "      <td>3997</td>\n",
       "      <td>Wallet</td>\n",
       "      <td>3003.000000</td>\n",
       "      <td>2022-11-27</td>\n",
       "      <td>4.700000</td>\n",
       "      <td>Cash</td>\n",
       "      <td>11</td>\n",
       "    </tr>\n",
       "    <tr>\n",
       "      <th>...</th>\n",
       "      <td>...</td>\n",
       "      <td>...</td>\n",
       "      <td>...</td>\n",
       "      <td>...</td>\n",
       "      <td>...</td>\n",
       "      <td>...</td>\n",
       "      <td>...</td>\n",
       "    </tr>\n",
       "    <tr>\n",
       "      <th>3395</th>\n",
       "      <td>4118</td>\n",
       "      <td>Shorts</td>\n",
       "      <td>37.000000</td>\n",
       "      <td>2023-07-09</td>\n",
       "      <td>2.700000</td>\n",
       "      <td>Cash</td>\n",
       "      <td>7</td>\n",
       "    </tr>\n",
       "    <tr>\n",
       "      <th>3396</th>\n",
       "      <td>4056</td>\n",
       "      <td>Slippers</td>\n",
       "      <td>176.000000</td>\n",
       "      <td>2023-03-16</td>\n",
       "      <td>2.500000</td>\n",
       "      <td>Cash</td>\n",
       "      <td>3</td>\n",
       "    </tr>\n",
       "    <tr>\n",
       "      <th>3397</th>\n",
       "      <td>3991</td>\n",
       "      <td>Onesie</td>\n",
       "      <td>156.709818</td>\n",
       "      <td>2022-10-03</td>\n",
       "      <td>2.400000</td>\n",
       "      <td>Credit Card</td>\n",
       "      <td>10</td>\n",
       "    </tr>\n",
       "    <tr>\n",
       "      <th>3398</th>\n",
       "      <td>4042</td>\n",
       "      <td>Sandals</td>\n",
       "      <td>128.000000</td>\n",
       "      <td>2023-01-01</td>\n",
       "      <td>1.800000</td>\n",
       "      <td>Cash</td>\n",
       "      <td>1</td>\n",
       "    </tr>\n",
       "    <tr>\n",
       "      <th>3399</th>\n",
       "      <td>4001</td>\n",
       "      <td>Backpack</td>\n",
       "      <td>115.000000</td>\n",
       "      <td>2023-03-22</td>\n",
       "      <td>1.400000</td>\n",
       "      <td>Cash</td>\n",
       "      <td>3</td>\n",
       "    </tr>\n",
       "  </tbody>\n",
       "</table>\n",
       "<p>3400 rows × 7 columns</p>\n",
       "</div>"
      ],
      "text/plain": [
       "      Customer Reference ID Item Purchased  Purchase Amount (USD)  \\\n",
       "0                      4018        Handbag            4619.000000   \n",
       "1                      4115          Tunic            2456.000000   \n",
       "2                      4019       Tank Top            2102.000000   \n",
       "3                      4097       Leggings            3126.000000   \n",
       "4                      3997         Wallet            3003.000000   \n",
       "...                     ...            ...                    ...   \n",
       "3395                   4118         Shorts              37.000000   \n",
       "3396                   4056       Slippers             176.000000   \n",
       "3397                   3991         Onesie             156.709818   \n",
       "3398                   4042        Sandals             128.000000   \n",
       "3399                   4001       Backpack             115.000000   \n",
       "\n",
       "     Date Purchase  Review Rating Payment Method  month  \n",
       "0       2023-02-05       2.999057    Credit Card      2  \n",
       "1       2023-07-11       2.000000    Credit Card      7  \n",
       "2       2023-03-23       4.100000           Cash      3  \n",
       "3       2023-03-15       3.200000           Cash      3  \n",
       "4       2022-11-27       4.700000           Cash     11  \n",
       "...            ...            ...            ...    ...  \n",
       "3395    2023-07-09       2.700000           Cash      7  \n",
       "3396    2023-03-16       2.500000           Cash      3  \n",
       "3397    2022-10-03       2.400000    Credit Card     10  \n",
       "3398    2023-01-01       1.800000           Cash      1  \n",
       "3399    2023-03-22       1.400000           Cash      3  \n",
       "\n",
       "[3400 rows x 7 columns]"
      ]
     },
     "execution_count": 43,
     "metadata": {},
     "output_type": "execute_result"
    }
   ],
   "source": [
    "# Checking the data and finding insight\n",
    "df"
   ]
  },
  {
   "cell_type": "markdown",
   "id": "c662acbf-9455-40c6-9ecc-d1dc45869e57",
   "metadata": {},
   "source": [
    "We found many question in this data such as:\n",
    "- What is the most sold products?\n",
    "- What is the most expensive products?\n",
    "- What is the number of selling per month?\n",
    "- What is the high rated products?\n",
    "- Who has the most total spent?"
   ]
  },
  {
   "cell_type": "markdown",
   "id": "608c41b2-0647-4f15-8bb3-cbbf3f535db1",
   "metadata": {},
   "source": [
    "## Cleaning"
   ]
  },
  {
   "cell_type": "code",
   "execution_count": 32,
   "id": "ed759ae4-7cdd-4b2f-ba1f-3d85ceaee7db",
   "metadata": {},
   "outputs": [
    {
     "data": {
      "text/plain": [
       "Customer Reference ID      0\n",
       "Item Purchased             0\n",
       "Purchase Amount (USD)    650\n",
       "Date Purchase              0\n",
       "Review Rating            324\n",
       "Payment Method             0\n",
       "dtype: int64"
      ]
     },
     "execution_count": 32,
     "metadata": {},
     "output_type": "execute_result"
    }
   ],
   "source": [
    "# Checking the missing values and duplicated data\n",
    "df.isna().sum()"
   ]
  },
  {
   "cell_type": "code",
   "execution_count": 46,
   "id": "29166336-50f9-4a28-b0b6-fbef1f328116",
   "metadata": {},
   "outputs": [
    {
     "data": {
      "text/plain": [
       "np.int64(0)"
      ]
     },
     "execution_count": 46,
     "metadata": {},
     "output_type": "execute_result"
    }
   ],
   "source": [
    "df.duplicated().sum()"
   ]
  },
  {
   "cell_type": "markdown",
   "id": "da736c17-c041-47b1-b4b3-5357360a1138",
   "metadata": {},
   "source": [
    "As you can see, we dont got much problem in here. There is no duplicated data and only missing values which we can fill it with mean or the average values of it, thank god I got this dataset."
   ]
  },
  {
   "cell_type": "code",
   "execution_count": 48,
   "id": "ac189f8e-db8f-4799-89fe-a0974a69fe16",
   "metadata": {},
   "outputs": [],
   "source": [
    "# Changing the dtype of Date purchase\n",
    "df['Date Purchase'] = pd.to_datetime(\n",
    "    df['Date Purchase'], dayfirst=True, errors='coerce')"
   ]
  },
  {
   "cell_type": "code",
   "execution_count": 47,
   "id": "133962c3-7cef-48d1-ba2c-70d4cc85e019",
   "metadata": {},
   "outputs": [],
   "source": [
    "# Filling the missing values with the average values\n",
    "df['Purchase Amount (USD)'] = df['Purchase Amount (USD)'].fillna(\n",
    "    df['Purchase Amount (USD)'].mean())\n",
    "df['Review Rating'] = df['Review Rating'].fillna(\n",
    "    df['Review Rating'].mean())"
   ]
  },
  {
   "cell_type": "markdown",
   "id": "2527b50f-4d01-4099-b244-79b948e9f84a",
   "metadata": {},
   "source": [
    "## Processing Data"
   ]
  },
  {
   "cell_type": "code",
   "execution_count": 37,
   "id": "c3b37e4e-32c0-458b-8de8-e1f4382bc9a0",
   "metadata": {},
   "outputs": [
    {
     "data": {
      "text/html": [
       "<div>\n",
       "<style scoped>\n",
       "    .dataframe tbody tr th:only-of-type {\n",
       "        vertical-align: middle;\n",
       "    }\n",
       "\n",
       "    .dataframe tbody tr th {\n",
       "        vertical-align: top;\n",
       "    }\n",
       "\n",
       "    .dataframe thead th {\n",
       "        text-align: right;\n",
       "    }\n",
       "</style>\n",
       "<table border=\"1\" class=\"dataframe\">\n",
       "  <thead>\n",
       "    <tr style=\"text-align: right;\">\n",
       "      <th></th>\n",
       "      <th>Item Purchased</th>\n",
       "      <th>total terjual</th>\n",
       "    </tr>\n",
       "  </thead>\n",
       "  <tbody>\n",
       "    <tr>\n",
       "      <th>0</th>\n",
       "      <td>Belt</td>\n",
       "      <td>90</td>\n",
       "    </tr>\n",
       "    <tr>\n",
       "      <th>1</th>\n",
       "      <td>Skirt</td>\n",
       "      <td>88</td>\n",
       "    </tr>\n",
       "    <tr>\n",
       "      <th>2</th>\n",
       "      <td>Shorts</td>\n",
       "      <td>87</td>\n",
       "    </tr>\n",
       "    <tr>\n",
       "      <th>3</th>\n",
       "      <td>Pants</td>\n",
       "      <td>86</td>\n",
       "    </tr>\n",
       "    <tr>\n",
       "      <th>4</th>\n",
       "      <td>T-shirt</td>\n",
       "      <td>82</td>\n",
       "    </tr>\n",
       "  </tbody>\n",
       "</table>\n",
       "</div>"
      ],
      "text/plain": [
       "  Item Purchased  total terjual\n",
       "0           Belt             90\n",
       "1          Skirt             88\n",
       "2         Shorts             87\n",
       "3          Pants             86\n",
       "4        T-shirt             82"
      ]
     },
     "execution_count": 37,
     "metadata": {},
     "output_type": "execute_result"
    }
   ],
   "source": [
    "# Finfing Top 5 most sold products\n",
    "produk_terlaris = df.groupby('Item Purchased')['Item Purchased'].count().sort_values(ascending=False).reset_index(name='total terjual')\n",
    "produk_terlaris.head()"
   ]
  },
  {
   "cell_type": "code",
   "execution_count": 44,
   "id": "8c1512d7-1099-49db-9ae2-df44e1bc05d2",
   "metadata": {},
   "outputs": [
    {
     "data": {
      "text/html": [
       "<div>\n",
       "<style scoped>\n",
       "    .dataframe tbody tr th:only-of-type {\n",
       "        vertical-align: middle;\n",
       "    }\n",
       "\n",
       "    .dataframe tbody tr th {\n",
       "        vertical-align: top;\n",
       "    }\n",
       "\n",
       "    .dataframe thead th {\n",
       "        text-align: right;\n",
       "    }\n",
       "</style>\n",
       "<table border=\"1\" class=\"dataframe\">\n",
       "  <thead>\n",
       "    <tr style=\"text-align: right;\">\n",
       "      <th></th>\n",
       "      <th>Item Purchased</th>\n",
       "      <th>Harga rata-rata (USD)</th>\n",
       "    </tr>\n",
       "  </thead>\n",
       "  <tbody>\n",
       "    <tr>\n",
       "      <th>0</th>\n",
       "      <td>Tunic</td>\n",
       "      <td>302</td>\n",
       "    </tr>\n",
       "    <tr>\n",
       "      <th>1</th>\n",
       "      <td>Flip-Flops</td>\n",
       "      <td>253</td>\n",
       "    </tr>\n",
       "    <tr>\n",
       "      <th>2</th>\n",
       "      <td>Jeans</td>\n",
       "      <td>253</td>\n",
       "    </tr>\n",
       "    <tr>\n",
       "      <th>3</th>\n",
       "      <td>Gloves</td>\n",
       "      <td>228</td>\n",
       "    </tr>\n",
       "    <tr>\n",
       "      <th>4</th>\n",
       "      <td>Slippers</td>\n",
       "      <td>227</td>\n",
       "    </tr>\n",
       "  </tbody>\n",
       "</table>\n",
       "</div>"
      ],
      "text/plain": [
       "  Item Purchased  Harga rata-rata (USD)\n",
       "0          Tunic                    302\n",
       "1     Flip-Flops                    253\n",
       "2          Jeans                    253\n",
       "3         Gloves                    228\n",
       "4       Slippers                    227"
      ]
     },
     "execution_count": 44,
     "metadata": {},
     "output_type": "execute_result"
    }
   ],
   "source": [
    "# Finding Top 5 most expensive products\n",
    "produk_termahal = df.groupby('Item Purchased')['Purchase Amount (USD)'].mean().sort_values(ascending=False).reset_index(name='Harga rata-rata (USD)')\n",
    "produk_termahal['Harga rata-rata (USD)'] = np.ceil(produk_termahal['Harga rata-rata (USD)']).astype(int)\n",
    "produk_termahal.head()"
   ]
  },
  {
   "cell_type": "code",
   "execution_count": 45,
   "id": "3533db42-c312-4dc1-a59d-8cd507f6dcda",
   "metadata": {},
   "outputs": [
    {
     "data": {
      "text/html": [
       "<div>\n",
       "<style scoped>\n",
       "    .dataframe tbody tr th:only-of-type {\n",
       "        vertical-align: middle;\n",
       "    }\n",
       "\n",
       "    .dataframe tbody tr th {\n",
       "        vertical-align: top;\n",
       "    }\n",
       "\n",
       "    .dataframe thead th {\n",
       "        text-align: right;\n",
       "    }\n",
       "</style>\n",
       "<table border=\"1\" class=\"dataframe\">\n",
       "  <thead>\n",
       "    <tr style=\"text-align: right;\">\n",
       "      <th></th>\n",
       "      <th>month</th>\n",
       "      <th>Total Penjualan</th>\n",
       "    </tr>\n",
       "  </thead>\n",
       "  <tbody>\n",
       "    <tr>\n",
       "      <th>0</th>\n",
       "      <td>Januari</td>\n",
       "      <td>292</td>\n",
       "    </tr>\n",
       "    <tr>\n",
       "      <th>1</th>\n",
       "      <td>Februari</td>\n",
       "      <td>251</td>\n",
       "    </tr>\n",
       "    <tr>\n",
       "      <th>2</th>\n",
       "      <td>Maret</td>\n",
       "      <td>277</td>\n",
       "    </tr>\n",
       "    <tr>\n",
       "      <th>3</th>\n",
       "      <td>April</td>\n",
       "      <td>295</td>\n",
       "    </tr>\n",
       "    <tr>\n",
       "      <th>4</th>\n",
       "      <td>Mei</td>\n",
       "      <td>308</td>\n",
       "    </tr>\n",
       "    <tr>\n",
       "      <th>5</th>\n",
       "      <td>Juni</td>\n",
       "      <td>262</td>\n",
       "    </tr>\n",
       "    <tr>\n",
       "      <th>6</th>\n",
       "      <td>Juli</td>\n",
       "      <td>303</td>\n",
       "    </tr>\n",
       "    <tr>\n",
       "      <th>7</th>\n",
       "      <td>Agustus</td>\n",
       "      <td>301</td>\n",
       "    </tr>\n",
       "    <tr>\n",
       "      <th>8</th>\n",
       "      <td>September</td>\n",
       "      <td>253</td>\n",
       "    </tr>\n",
       "    <tr>\n",
       "      <th>9</th>\n",
       "      <td>Oktober</td>\n",
       "      <td>314</td>\n",
       "    </tr>\n",
       "    <tr>\n",
       "      <th>10</th>\n",
       "      <td>November</td>\n",
       "      <td>238</td>\n",
       "    </tr>\n",
       "    <tr>\n",
       "      <th>11</th>\n",
       "      <td>Desember</td>\n",
       "      <td>306</td>\n",
       "    </tr>\n",
       "  </tbody>\n",
       "</table>\n",
       "</div>"
      ],
      "text/plain": [
       "        month  Total Penjualan\n",
       "0     Januari              292\n",
       "1    Februari              251\n",
       "2       Maret              277\n",
       "3       April              295\n",
       "4         Mei              308\n",
       "5        Juni              262\n",
       "6        Juli              303\n",
       "7     Agustus              301\n",
       "8   September              253\n",
       "9     Oktober              314\n",
       "10   November              238\n",
       "11   Desember              306"
      ]
     },
     "execution_count": 45,
     "metadata": {},
     "output_type": "execute_result"
    }
   ],
   "source": [
    "# Finding the selling number per month\n",
    "bulan = {\n",
    "    1: 'Januari', 2: 'Februari', 3: 'Maret', 4: 'April',\n",
    "    5: 'Mei', 6: 'Juni', 7: 'Juli', 8: 'Agustus',\n",
    "    9: 'September', 10: 'Oktober', 11: 'November', 12: 'Desember'\n",
    "}\n",
    "df['month'] = df['Date Purchase'].dt.month\n",
    "penjualan_setahun = df.groupby('month')['month'].count().reset_index(name='Total Penjualan')\n",
    "penjualan_setahun['month'] = penjualan_setahun['month'].map(bulan)\n",
    "penjualan_setahun"
   ]
  },
  {
   "cell_type": "code",
   "execution_count": 40,
   "id": "6e1135eb-fbb5-4829-b6b3-3daafa995255",
   "metadata": {},
   "outputs": [
    {
     "data": {
      "text/html": [
       "<div>\n",
       "<style scoped>\n",
       "    .dataframe tbody tr th:only-of-type {\n",
       "        vertical-align: middle;\n",
       "    }\n",
       "\n",
       "    .dataframe tbody tr th {\n",
       "        vertical-align: top;\n",
       "    }\n",
       "\n",
       "    .dataframe thead th {\n",
       "        text-align: right;\n",
       "    }\n",
       "</style>\n",
       "<table border=\"1\" class=\"dataframe\">\n",
       "  <thead>\n",
       "    <tr style=\"text-align: right;\">\n",
       "      <th></th>\n",
       "      <th>Item Purchased</th>\n",
       "      <th>Total rating rata-rata</th>\n",
       "    </tr>\n",
       "  </thead>\n",
       "  <tbody>\n",
       "    <tr>\n",
       "      <th>0</th>\n",
       "      <td>Sun Hat</td>\n",
       "      <td>3.4</td>\n",
       "    </tr>\n",
       "    <tr>\n",
       "      <th>1</th>\n",
       "      <td>Flip-Flops</td>\n",
       "      <td>3.2</td>\n",
       "    </tr>\n",
       "    <tr>\n",
       "      <th>2</th>\n",
       "      <td>Sandals</td>\n",
       "      <td>3.2</td>\n",
       "    </tr>\n",
       "    <tr>\n",
       "      <th>3</th>\n",
       "      <td>Jeans</td>\n",
       "      <td>3.2</td>\n",
       "    </tr>\n",
       "    <tr>\n",
       "      <th>4</th>\n",
       "      <td>Boots</td>\n",
       "      <td>3.1</td>\n",
       "    </tr>\n",
       "  </tbody>\n",
       "</table>\n",
       "</div>"
      ],
      "text/plain": [
       "  Item Purchased  Total rating rata-rata\n",
       "0        Sun Hat                     3.4\n",
       "1     Flip-Flops                     3.2\n",
       "2        Sandals                     3.2\n",
       "3          Jeans                     3.2\n",
       "4          Boots                     3.1"
      ]
     },
     "execution_count": 40,
     "metadata": {},
     "output_type": "execute_result"
    }
   ],
   "source": [
    "# Finding Top 5 high rated products\n",
    "high_rate_produk = df.groupby('Item Purchased')['Review Rating'].mean().sort_values(ascending=False).reset_index(name='Total rating rata-rata')\n",
    "high_rate_produk['Total rating rata-rata'] = np.floor(high_rate_produk['Total rating rata-rata'] * 10) / 10\n",
    "high_rate_produk.head()"
   ]
  },
  {
   "cell_type": "code",
   "execution_count": 41,
   "id": "dc9e3862-222d-41fe-aace-dd889b297642",
   "metadata": {},
   "outputs": [
    {
     "data": {
      "text/html": [
       "<div>\n",
       "<style scoped>\n",
       "    .dataframe tbody tr th:only-of-type {\n",
       "        vertical-align: middle;\n",
       "    }\n",
       "\n",
       "    .dataframe tbody tr th {\n",
       "        vertical-align: top;\n",
       "    }\n",
       "\n",
       "    .dataframe thead th {\n",
       "        text-align: right;\n",
       "    }\n",
       "</style>\n",
       "<table border=\"1\" class=\"dataframe\">\n",
       "  <thead>\n",
       "    <tr style=\"text-align: right;\">\n",
       "      <th></th>\n",
       "      <th>Customer Reference ID</th>\n",
       "      <th>total spent</th>\n",
       "      <th>customer_name</th>\n",
       "    </tr>\n",
       "  </thead>\n",
       "  <tbody>\n",
       "    <tr>\n",
       "      <th>0</th>\n",
       "      <td>4040</td>\n",
       "      <td>10754</td>\n",
       "      <td>Customer A</td>\n",
       "    </tr>\n",
       "    <tr>\n",
       "      <th>1</th>\n",
       "      <td>4109</td>\n",
       "      <td>10155</td>\n",
       "      <td>Customer B</td>\n",
       "    </tr>\n",
       "    <tr>\n",
       "      <th>2</th>\n",
       "      <td>4044</td>\n",
       "      <td>9685</td>\n",
       "      <td>Customer C</td>\n",
       "    </tr>\n",
       "    <tr>\n",
       "      <th>3</th>\n",
       "      <td>4108</td>\n",
       "      <td>7961</td>\n",
       "      <td>Customer D</td>\n",
       "    </tr>\n",
       "    <tr>\n",
       "      <th>4</th>\n",
       "      <td>4075</td>\n",
       "      <td>7886</td>\n",
       "      <td>Customer E</td>\n",
       "    </tr>\n",
       "  </tbody>\n",
       "</table>\n",
       "</div>"
      ],
      "text/plain": [
       "   Customer Reference ID  total spent customer_name\n",
       "0                   4040        10754    Customer A\n",
       "1                   4109        10155    Customer B\n",
       "2                   4044         9685    Customer C\n",
       "3                   4108         7961    Customer D\n",
       "4                   4075         7886    Customer E"
      ]
     },
     "execution_count": 41,
     "metadata": {},
     "output_type": "execute_result"
    }
   ],
   "source": [
    "# Finding Top 5 customer with most total spent\n",
    "customer_names = pd.Series({\n",
    "    4040: 'Customer A',\n",
    "    4109: 'Customer B',\n",
    "    4044: 'Customer C',\n",
    "    4108: 'Customer D',\n",
    "    4075: 'Customer E'\n",
    "})\n",
    "\n",
    "rich_man = df.groupby('Customer Reference ID')['Purchase Amount (USD)'].sum().sort_values(ascending=False).reset_index(name='total spent')\n",
    "rich_man['total spent'] = rich_man['total spent'].round().astype(int)\n",
    "rich_man['customer_name'] = rich_man['Customer Reference ID'].map(customer_names)\n",
    "rich_man.head()"
   ]
  },
  {
   "cell_type": "markdown",
   "id": "06bbdb91-6b9c-468e-a765-ffc9718b4d26",
   "metadata": {},
   "source": [
    "## Conclusion"
   ]
  },
  {
   "cell_type": "markdown",
   "id": "c7b24a22-5279-4c48-aa1a-e7ce1a522d91",
   "metadata": {},
   "source": [
    "We only do 5 simple analysis that often make people curious, but actually we can anything with this dataset even down to machine learning. We are not gonna do that now, but we will do it soon.\n",
    "\n",
    "Anyway, the analysis of fashion retail sales data shows fairly stable sales performance throughout the year with the highest peak in October. Products such as Belts, Skirts, and Shorts recorded the highest sales, while Tunics and Jeans were included in the product categories with the highest average prices. In terms of customer satisfaction, products such as Sun Hats and Flip-Flops received the highest review ratings. The analysis also identified five customers with the highest total spending, which contributed significantly to revenue. In addition, the data cleansing process successfully addressed blank values ​​and inconsistent date formats, allowing for more accurate analysis."
   ]
  },
  {
   "cell_type": "code",
   "execution_count": null,
   "id": "7451ddf1-248d-4a24-9d4a-ce2d88e47427",
   "metadata": {},
   "outputs": [],
   "source": []
  }
 ],
 "metadata": {
  "kernelspec": {
   "display_name": "Python 3 (ipykernel)",
   "language": "python",
   "name": "python3"
  },
  "language_info": {
   "codemirror_mode": {
    "name": "ipython",
    "version": 3
   },
   "file_extension": ".py",
   "mimetype": "text/x-python",
   "name": "python",
   "nbconvert_exporter": "python",
   "pygments_lexer": "ipython3",
   "version": "3.13.3"
  }
 },
 "nbformat": 4,
 "nbformat_minor": 5
}
